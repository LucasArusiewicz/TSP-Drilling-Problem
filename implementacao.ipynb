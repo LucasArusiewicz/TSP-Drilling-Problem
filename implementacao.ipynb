{
 "cells": [
  {
   "cell_type": "code",
   "execution_count": 38,
   "metadata": {},
   "outputs": [],
   "source": [
    "import math\n",
    "import random\n",
    "import numpy as np\n",
    "%run TSP.ipynb"
   ]
  },
  {
   "cell_type": "code",
   "execution_count": 39,
   "metadata": {},
   "outputs": [
    {
     "name": "stdout",
     "output_type": "stream",
     "text": [
      "NOME : a280\n",
      "PROBLEMA : drilling problem (Ludwig)\n",
      "TIPO : TSP\n",
      "TAMNHO: 280\n",
      "CALCULO : EUC_2D\n"
     ]
    }
   ],
   "source": [
    "drilling_problem_data = TSP('a280.tsp')\n",
    "print(drilling_problem_data)"
   ]
  },
  {
   "cell_type": "code",
   "execution_count": 40,
   "metadata": {},
   "outputs": [],
   "source": [
    "def calcular_fitness(individuo, tsp):\n",
    "    fitness = 0\n",
    "    for i in range(len(individuo)-1):\n",
    "        p1 = tsp.data[str(individuo[i])]\n",
    "        p2 = tsp.data[str(individuo[i+1])]\n",
    "        \n",
    "        fitness += calcular_distancia(p1, p2)\n",
    "    return fitness"
   ]
  },
  {
   "cell_type": "code",
   "execution_count": 41,
   "metadata": {},
   "outputs": [],
   "source": [
    "def calcular_distancia(p1, p2):\n",
    "    xd = p1[0] - p1[1];\n",
    "    yd = p2[0] - p2[1];\n",
    "    dij = int(math.sqrt( xd*xd + yd*yd) );\n",
    "    return dij"
   ]
  },
  {
   "cell_type": "code",
   "execution_count": 42,
   "metadata": {},
   "outputs": [],
   "source": [
    "def gerar_solucao(tamanho_dna):\n",
    "    dna = list(range(1, (tamanho_dna + 1)))\n",
    "    random.shuffle(dna)\n",
    "    dna.append(dna[0])\n",
    "    return dna"
   ]
  },
  {
   "cell_type": "code",
   "execution_count": 43,
   "metadata": {},
   "outputs": [],
   "source": [
    "def gerar_populacao_aleatoria(tamanho_populacao, tamanho_dna):\n",
    "    populacao = []\n",
    "    for indice in range(1, (tamanho_populacao+1)):\n",
    "        populacao.append({\"indice\": str(indice), \"dna\": gerar_solucao(tamanho_dna)})\n",
    "    return populacao"
   ]
  },
  {
   "cell_type": "code",
   "execution_count": 44,
   "metadata": {},
   "outputs": [],
   "source": [
    "def get_individuo_por_indice(indice, populacao):\n",
    "    return list(filter(lambda ind: ind['indice'] == str(indice), populacao))[0]"
   ]
  },
  {
   "cell_type": "code",
   "execution_count": 45,
   "metadata": {},
   "outputs": [],
   "source": [
    "def crossover(pai, mae):\n",
    "    # Valores de corte para o DNA\n",
    "    inicio = random.randint(0, len(pai['dna'])-1)\n",
    "    fim = random.randint(inicio+1, len(pai['dna']))\n",
    "    \n",
    "    # Cria genes iniciais para filho a partir do pai\n",
    "    dna_filho = pai['dna'][inicio:fim]\n",
    "    \n",
    "    # Contabiliza quantos genes faltam\n",
    "    genes_faltando = len(pai['dna']) - len(dna_filho) - 1\n",
    "    \n",
    "    genes_adicionados = 0\n",
    "    i = 0\n",
    "    \n",
    "    # Atribuí genes restantes a partir da mãe\n",
    "    while genes_adicionados < genes_faltando:\n",
    "        gene = mae['dna'][i]\n",
    "        \n",
    "        if gene not in dna_filho:\n",
    "            dna_filho.append(gene)\n",
    "            genes_adicionados += 1\n",
    "    \n",
    "        i += 1\n",
    "    \n",
    "    # Aponta para ponto inicial\n",
    "    dna_filho.append(dna_filho[0])\n",
    "        \n",
    "    return dna_filho"
   ]
  },
  {
   "cell_type": "code",
   "execution_count": 46,
   "metadata": {},
   "outputs": [],
   "source": [
    "def mutar(dna, taxaMutacao):\n",
    "    dna_antigo = dna[:-1]\n",
    "    \n",
    "    for i in range(len(dna_antigo)):\n",
    "        if(random.random() < taxaMutacao):\n",
    "            j = int(random.random() * len(dna_antigo))\n",
    "            \n",
    "            geneA = dna_antigo[i]\n",
    "            geneB = dna_antigo[j]\n",
    "            \n",
    "            dna_antigo[i] = geneB\n",
    "            dna_antigo[j] = geneA\n",
    "    \n",
    "    dna_novo = dna_antigo\n",
    "    # Aponta para ponto inicial\n",
    "    dna_novo.append(dna_novo[0])\n",
    "    return dna_novo"
   ]
  },
  {
   "cell_type": "code",
   "execution_count": 51,
   "metadata": {},
   "outputs": [],
   "source": [
    "def algoritmo_genetico(limite_de_geracoes=5000, limite_sem_melhora=500, \n",
    "                       tamanho_populacao=100, taxa_cruzamento=0.8, taxa_mutacao=0.02 , \n",
    "                       tsp=TSP('eil51.tsp')):\n",
    "    # Cria uma população aleatóriamente, conforme `tamanho_populacao`.\n",
    "    # Cada individuo representa uma possível solução\n",
    "    populacao = gerar_populacao_aleatoria(tamanho_populacao, tsp.tamanho)\n",
    "\n",
    "    tamanho_populacao_cruzamento = math.ceil(tamanho_populacao * taxa_cruzamento)\n",
    "    \n",
    "    indice_total = tamanho_populacao + 1\n",
    "    \n",
    "    geracao_atual = 0\n",
    "    geracoes_sem_melhora = 0\n",
    "    \n",
    "    melhor_individuo = None\n",
    "    \n",
    "    # geracao_atual < limite_de_geracoes and\n",
    "    while geracoes_sem_melhora < limite_sem_melhora:\n",
    "        # Armazena fitness da populução atual\n",
    "        populacao_fitness = {}\n",
    "\n",
    "        # Calcula fitness da populução atual\n",
    "        for individuo in populacao:\n",
    "            populacao_fitness[individuo['indice']] = calcular_fitness(individuo['dna'], tsp)\n",
    "\n",
    "        nova_populacao = []\n",
    "        melhor_individuo_da_geracao = None\n",
    "        \n",
    "        # Pega % da população com melhor fitness e cria descendentes a partir deles\n",
    "        for rank, indice in enumerate(sorted(populacao_fitness, key=populacao_fitness.get)[:tamanho_populacao_cruzamento]):\n",
    "            individuo = get_individuo_por_indice(indice, populacao)\n",
    "            \n",
    "            if rank == 0:\n",
    "                melhor_individuo_da_geracao = individuo\n",
    "\n",
    "            # Adiciona individuopara próxima população\n",
    "            nova_populacao.append(individuo)\n",
    "            \n",
    "            # Seleciona mãe aleatoriamente dentro da população\n",
    "            pai = individuo\n",
    "            mae = random.choice(populacao)\n",
    "            \n",
    "            # Cria filho\n",
    "            filho = {}\n",
    "            filho['indice'] = str(indice_total)\n",
    "            filho['dna'] = mutar(crossover(pai, mae), taxa_mutacao)\n",
    "            indice_total += 1\n",
    "            \n",
    "            # Adiciona filho a nova população\n",
    "            nova_populacao.append(filho)\n",
    "\n",
    "        # Substitui população antiga com nova polação de descendentes\n",
    "        while len(nova_populacao) < len(populacao):\n",
    "            nova_populacao.append(random.choice(populacao))\n",
    "        \n",
    "        populacao = nova_populacao\n",
    "        \n",
    "        \n",
    "        # Ajusta valores para próxima geração\n",
    "        if melhor_individuo != melhor_individuo_da_geracao:\n",
    "            melhor_individuo = melhor_individuo_da_geracao\n",
    "            geracoes_sem_melhora = 0\n",
    "        else:\n",
    "            geracoes_sem_melhora += 1\n",
    "        \n",
    "        print(\"Geração: {}\\tLimite sem melhora: {}\\t Fitness: {}\\t Len: {}\".format(geracao_atual, geracoes_sem_melhora, calcular_fitness(melhor_individuo['dna'], tsp), len(populacao)))\n",
    "        \n",
    "        geracao_atual += 1\n",
    "    \n",
    "        \n",
    "        "
   ]
  },
  {
   "cell_type": "code",
   "execution_count": null,
   "metadata": {
    "scrolled": true
   },
   "outputs": [],
   "source": [
    "algoritmo_genetico()"
   ]
  },
  {
   "cell_type": "code",
   "execution_count": null,
   "metadata": {},
   "outputs": [],
   "source": []
  },
  {
   "cell_type": "code",
   "execution_count": null,
   "metadata": {},
   "outputs": [],
   "source": []
  }
 ],
 "metadata": {
  "kernelspec": {
   "display_name": "Python 3",
   "language": "python",
   "name": "python3"
  },
  "language_info": {
   "codemirror_mode": {
    "name": "ipython",
    "version": 3
   },
   "file_extension": ".py",
   "mimetype": "text/x-python",
   "name": "python",
   "nbconvert_exporter": "python",
   "pygments_lexer": "ipython3",
   "version": "3.7.3"
  }
 },
 "nbformat": 4,
 "nbformat_minor": 2
}
