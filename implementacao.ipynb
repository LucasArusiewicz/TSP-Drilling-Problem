{
 "cells": [
  {
   "cell_type": "code",
   "execution_count": 62,
   "metadata": {},
   "outputs": [],
   "source": [
    "import math\n",
    "import random\n",
    "import numpy as np\n",
    "%run TSP.ipynb"
   ]
  },
  {
   "cell_type": "code",
   "execution_count": 63,
   "metadata": {},
   "outputs": [
    {
     "name": "stdout",
     "output_type": "stream",
     "text": [
      "NOME : a280\n",
      "PROBLEMA : drilling problem (Ludwig)\n",
      "TIPO : TSP\n",
      "TAMNHO: 280\n",
      "CALCULO : EUC_2D\n"
     ]
    }
   ],
   "source": [
    "drilling_problem_data = TSP('a280.tsp')\n",
    "print(drilling_problem_data)"
   ]
  },
  {
   "cell_type": "code",
   "execution_count": 64,
   "metadata": {},
   "outputs": [],
   "source": [
    "def calcular_fitness(individuo, tsp):\n",
    "    fitness = 0\n",
    "    for i in range(len(individuo)):\n",
    "        p1 = tsp.data[str(individuo[i])]\n",
    "        if i + 1 < len(individuo):\n",
    "            p2 = tsp.data[str(individuo[i+1])]\n",
    "        else:\n",
    "            p2 = tsp.data[str(individuo[0])]\n",
    "        \n",
    "        fitness += calcular_distancia(p1, p2)\n",
    "    return fitness"
   ]
  },
  {
   "cell_type": "code",
   "execution_count": 65,
   "metadata": {},
   "outputs": [],
   "source": [
    "def calcular_distancia(p1, p2):\n",
    "    xd = p1[0] - p1[1];\n",
    "    yd = p2[0] - p2[1];\n",
    "    dij = int(math.sqrt( xd*xd + yd*yd) );\n",
    "    return dij"
   ]
  },
  {
   "cell_type": "code",
   "execution_count": 66,
   "metadata": {},
   "outputs": [],
   "source": [
    "def gerar_solucao(tamanho_dna):\n",
    "    dna = list(range(1, (tamanho_dna + 1)))\n",
    "    random.shuffle(dna)\n",
    "    return dna"
   ]
  },
  {
   "cell_type": "code",
   "execution_count": 67,
   "metadata": {},
   "outputs": [],
   "source": [
    "def gerar_populacao_aleatoria(tamanho_populacao, tamanho_dna):\n",
    "    populacao = []\n",
    "    for indice in range(1, (tamanho_populacao+1)):\n",
    "        populacao.append({\"indice\": str(indice), \"dna\": gerar_solucao(tamanho_dna)})\n",
    "    return populacao"
   ]
  },
  {
   "cell_type": "code",
   "execution_count": 68,
   "metadata": {},
   "outputs": [],
   "source": [
    "def get_individuo_por_indice(indice, populacao):\n",
    "    return list(filter(lambda ind: ind['indice'] == str(indice), populacao))[0]"
   ]
  },
  {
   "cell_type": "code",
   "execution_count": null,
   "metadata": {},
   "outputs": [],
   "source": []
  },
  {
   "cell_type": "code",
   "execution_count": 69,
   "metadata": {},
   "outputs": [],
   "source": [
    "def crossover(pai, mae):\n",
    "    # Valores de corte para o DNA\n",
    "    inicio = random.randint(0, len(pai['dna'])-1)\n",
    "    fim = random.randint(inicio+1, len(pai['dna']))\n",
    "    \n",
    "    # Cria genes iniciais para filho a partir do pai\n",
    "    dna_filho = pai['dna'][inicio:fim]\n",
    "    \n",
    "    # Contabiliza quantos genes faltam\n",
    "    genes_faltando = len(pai['dna']) - len(dna_filho) - 1\n",
    "    \n",
    "    genes_adicionados = 0\n",
    "    i = 0\n",
    "    \n",
    "    # Atribuí genes restantes a partir da mãe\n",
    "    while genes_adicionados < genes_faltando:\n",
    "        gene = mae['dna'][i]\n",
    "        \n",
    "        if gene not in dna_filho:\n",
    "            dna_filho.append(gene)\n",
    "            genes_adicionados += 1\n",
    "    \n",
    "        i += 1\n",
    "    \n",
    "    # Aponta para ponto inicial\n",
    "    dna_filho.append(dna_filho[0])\n",
    "        \n",
    "    return dna_filho"
   ]
  },
  {
   "cell_type": "code",
   "execution_count": 70,
   "metadata": {},
   "outputs": [],
   "source": [
    "def mutar(dna, taxaMutacao):\n",
    "    dna_antigo = dna[:-1]\n",
    "    \n",
    "    for i in range(len(dna_antigo)):\n",
    "        if(random.random() < taxaMutacao):\n",
    "            j = int(random.random() * len(dna_antigo))\n",
    "            \n",
    "            geneA = dna_antigo[i]\n",
    "            geneB = dna_antigo[j]\n",
    "            \n",
    "            dna_antigo[i] = geneB\n",
    "            dna_antigo[j] = geneA\n",
    "    \n",
    "    dna_novo = dna_antigo\n",
    "    # Aponta para ponto inicial\n",
    "    dna_novo.append(dna_novo[0])\n",
    "    return dna_novo"
   ]
  },
  {
   "cell_type": "code",
   "execution_count": 71,
   "metadata": {},
   "outputs": [
    {
     "data": {
      "text/plain": [
       "[9, 2, 1, 4, 5, 6, 7, 8, 3, 9]"
      ]
     },
     "execution_count": 71,
     "metadata": {},
     "output_type": "execute_result"
    }
   ],
   "source": [
    "a = [1,2,3,4,5,6,7,8,9,1]\n",
    "mutar(a, 0.03)"
   ]
  },
  {
   "cell_type": "code",
   "execution_count": 72,
   "metadata": {},
   "outputs": [],
   "source": [
    "def algoritmo_genetico(limite_de_geracoes=5000, limite_sem_melhora=500, \n",
    "                       tamanho_populacao=100, taxa_cruzamento=0.8, taxa_mutacao=0.02 , \n",
    "                       tsp=TSP('eil51.tsp')):\n",
    "    # Cria uma população aleatóriamente, conforme `tamanho_populacao`.\n",
    "    # Cada individuo representa uma possível solução\n",
    "    populacao = gerar_populacao_aleatoria(tamanho_populacao, tsp.tamanho)\n",
    "\n",
    "    tamanho_populacao_cruzamento = math.ceil(tamanho_populacao * taxa_cruzamento)\n",
    "    \n",
    "    indice_total = tamanho_populacao + 1\n",
    "    \n",
    "    geracao_atual = 0\n",
    "    geracoes_sem_melhora = 0\n",
    "    \n",
    "    melhor_individuo = None\n",
    "    \n",
    "    # geracao_atual < limite_de_geracoes and\n",
    "    while geracoes_sem_melhora < limite_sem_melhora:\n",
    "        # Armazena fitness da populução atual\n",
    "        populacao_fitness = {}\n",
    "\n",
    "        # Calcula fitness da populução atual\n",
    "        for individuo in populacao:\n",
    "            populacao_fitness[individuo['indice']] = calcular_fitness(individuo['dna'], tsp)\n",
    "\n",
    "        nova_populacao = []\n",
    "        melhor_individuo_da_geracao = None\n",
    "        \n",
    "        # Pega % da população com melhor fitness e cria descendentes a partir deles\n",
    "        for rank, indice in enumerate(sorted(populacao_fitness, key=populacao_fitness.get)[:tamanho_populacao_cruzamento]):\n",
    "            individuo = get_individuo_por_indice(indice, populacao)\n",
    "            \n",
    "            if rank == 0:\n",
    "                melhor_individuo_da_geracao = individuo\n",
    "\n",
    "            # Adiciona individuopara próxima população\n",
    "            nova_populacao.append(individuo)\n",
    "            \n",
    "            # Seleciona mãe aleatoriamente dentro da população\n",
    "            pai = individuo\n",
    "            mae = random.choice(populacao)\n",
    "            \n",
    "            # Cria filho\n",
    "            filho = {}\n",
    "            filho['indice'] = str(indice_total)\n",
    "            filho['dna'] = mutar(crossover(pai, mae), taxa_mutacao)\n",
    "            indice_total += 1\n",
    "            \n",
    "            # Adiciona filho a nova população\n",
    "            nova_populacao.append(filho)\n",
    "\n",
    "        # Substitui população antiga com nova polação de descendentes\n",
    "        while len(nova_populacao) < len(populacao):\n",
    "            nova_populacao.append(random.choice(populacao))\n",
    "        \n",
    "        populacao = nova_populacao\n",
    "        \n",
    "        \n",
    "        # Ajusta valores para próxima geração\n",
    "        if melhor_individuo != melhor_individuo_da_geracao:\n",
    "            melhor_individuo = melhor_individuo_da_geracao\n",
    "            geracoes_sem_melhora = 0\n",
    "        else:\n",
    "            geracoes_sem_melhora += 1\n",
    "        \n",
    "        print(\"Geração: {}\\tLimite sem melhora: {}\\t Fitness: {}\\t Len: {}\".format(geracao_atual, geracoes_sem_melhora, calcular_fitness(melhor_individuo['dna'], tsp), len(populacao)))\n",
    "        \n",
    "        geracao_atual += 1\n",
    "    \n",
    "        \n",
    "        "
   ]
  },
  {
   "cell_type": "code",
   "execution_count": 73,
   "metadata": {
    "scrolled": true
   },
   "outputs": [
    {
     "name": "stdout",
     "output_type": "stream",
     "text": [
      "Geração: 0\tLimite sem melhora: 0\t Fitness: 1467\t Len: 160\n",
      "Geração: 1\tLimite sem melhora: 0\t Fitness: 1429\t Len: 160\n",
      "Geração: 2\tLimite sem melhora: 0\t Fitness: 1401\t Len: 160\n",
      "Geração: 3\tLimite sem melhora: 1\t Fitness: 1401\t Len: 160\n",
      "Geração: 4\tLimite sem melhora: 2\t Fitness: 1401\t Len: 160\n",
      "Geração: 5\tLimite sem melhora: 3\t Fitness: 1401\t Len: 160\n",
      "Geração: 6\tLimite sem melhora: 0\t Fitness: 1386\t Len: 160\n",
      "Geração: 7\tLimite sem melhora: 1\t Fitness: 1386\t Len: 160\n",
      "Geração: 8\tLimite sem melhora: 2\t Fitness: 1386\t Len: 160\n",
      "Geração: 9\tLimite sem melhora: 3\t Fitness: 1386\t Len: 160\n",
      "Geração: 10\tLimite sem melhora: 0\t Fitness: 1360\t Len: 160\n",
      "Geração: 11\tLimite sem melhora: 1\t Fitness: 1360\t Len: 160\n",
      "Geração: 12\tLimite sem melhora: 2\t Fitness: 1360\t Len: 160\n",
      "Geração: 13\tLimite sem melhora: 3\t Fitness: 1360\t Len: 160\n",
      "Geração: 14\tLimite sem melhora: 4\t Fitness: 1360\t Len: 160\n",
      "Geração: 15\tLimite sem melhora: 5\t Fitness: 1360\t Len: 160\n",
      "Geração: 16\tLimite sem melhora: 6\t Fitness: 1360\t Len: 160\n",
      "Geração: 17\tLimite sem melhora: 7\t Fitness: 1360\t Len: 160\n",
      "Geração: 18\tLimite sem melhora: 8\t Fitness: 1360\t Len: 160\n",
      "Geração: 19\tLimite sem melhora: 9\t Fitness: 1360\t Len: 160\n",
      "Geração: 20\tLimite sem melhora: 10\t Fitness: 1360\t Len: 160\n",
      "Geração: 21\tLimite sem melhora: 11\t Fitness: 1360\t Len: 160\n",
      "Geração: 22\tLimite sem melhora: 12\t Fitness: 1360\t Len: 160\n",
      "Geração: 23\tLimite sem melhora: 13\t Fitness: 1360\t Len: 160\n",
      "Geração: 24\tLimite sem melhora: 14\t Fitness: 1360\t Len: 160\n",
      "Geração: 25\tLimite sem melhora: 15\t Fitness: 1360\t Len: 160\n",
      "Geração: 26\tLimite sem melhora: 16\t Fitness: 1360\t Len: 160\n",
      "Geração: 27\tLimite sem melhora: 0\t Fitness: 1352\t Len: 160\n",
      "Geração: 28\tLimite sem melhora: 1\t Fitness: 1352\t Len: 160\n",
      "Geração: 29\tLimite sem melhora: 2\t Fitness: 1352\t Len: 160\n",
      "Geração: 30\tLimite sem melhora: 3\t Fitness: 1352\t Len: 160\n",
      "Geração: 31\tLimite sem melhora: 4\t Fitness: 1352\t Len: 160\n",
      "Geração: 32\tLimite sem melhora: 5\t Fitness: 1352\t Len: 160\n",
      "Geração: 33\tLimite sem melhora: 0\t Fitness: 1343\t Len: 160\n",
      "Geração: 34\tLimite sem melhora: 1\t Fitness: 1343\t Len: 160\n",
      "Geração: 35\tLimite sem melhora: 2\t Fitness: 1343\t Len: 160\n",
      "Geração: 36\tLimite sem melhora: 3\t Fitness: 1343\t Len: 160\n",
      "Geração: 37\tLimite sem melhora: 4\t Fitness: 1343\t Len: 160\n",
      "Geração: 38\tLimite sem melhora: 5\t Fitness: 1343\t Len: 160\n",
      "Geração: 39\tLimite sem melhora: 6\t Fitness: 1343\t Len: 160\n",
      "Geração: 40\tLimite sem melhora: 0\t Fitness: 1342\t Len: 160\n",
      "Geração: 41\tLimite sem melhora: 0\t Fitness: 1337\t Len: 160\n",
      "Geração: 42\tLimite sem melhora: 1\t Fitness: 1337\t Len: 160\n",
      "Geração: 43\tLimite sem melhora: 2\t Fitness: 1337\t Len: 160\n",
      "Geração: 44\tLimite sem melhora: 3\t Fitness: 1337\t Len: 160\n",
      "Geração: 45\tLimite sem melhora: 4\t Fitness: 1337\t Len: 160\n",
      "Geração: 46\tLimite sem melhora: 5\t Fitness: 1337\t Len: 160\n",
      "Geração: 47\tLimite sem melhora: 6\t Fitness: 1337\t Len: 160\n",
      "Geração: 48\tLimite sem melhora: 7\t Fitness: 1337\t Len: 160\n",
      "Geração: 49\tLimite sem melhora: 8\t Fitness: 1337\t Len: 160\n",
      "Geração: 50\tLimite sem melhora: 0\t Fitness: 1332\t Len: 160\n",
      "Geração: 51\tLimite sem melhora: 1\t Fitness: 1332\t Len: 160\n",
      "Geração: 52\tLimite sem melhora: 2\t Fitness: 1332\t Len: 160\n",
      "Geração: 53\tLimite sem melhora: 3\t Fitness: 1332\t Len: 160\n",
      "Geração: 54\tLimite sem melhora: 4\t Fitness: 1332\t Len: 160\n",
      "Geração: 55\tLimite sem melhora: 5\t Fitness: 1332\t Len: 160\n",
      "Geração: 56\tLimite sem melhora: 0\t Fitness: 1328\t Len: 160\n",
      "Geração: 57\tLimite sem melhora: 1\t Fitness: 1328\t Len: 160\n",
      "Geração: 58\tLimite sem melhora: 2\t Fitness: 1328\t Len: 160\n",
      "Geração: 59\tLimite sem melhora: 0\t Fitness: 1326\t Len: 160\n",
      "Geração: 60\tLimite sem melhora: 1\t Fitness: 1326\t Len: 160\n",
      "Geração: 61\tLimite sem melhora: 2\t Fitness: 1326\t Len: 160\n",
      "Geração: 62\tLimite sem melhora: 3\t Fitness: 1326\t Len: 160\n",
      "Geração: 63\tLimite sem melhora: 4\t Fitness: 1326\t Len: 160\n",
      "Geração: 64\tLimite sem melhora: 5\t Fitness: 1326\t Len: 160\n",
      "Geração: 65\tLimite sem melhora: 6\t Fitness: 1326\t Len: 160\n",
      "Geração: 66\tLimite sem melhora: 7\t Fitness: 1326\t Len: 160\n",
      "Geração: 67\tLimite sem melhora: 0\t Fitness: 1321\t Len: 160\n",
      "Geração: 68\tLimite sem melhora: 1\t Fitness: 1321\t Len: 160\n",
      "Geração: 69\tLimite sem melhora: 2\t Fitness: 1321\t Len: 160\n",
      "Geração: 70\tLimite sem melhora: 3\t Fitness: 1321\t Len: 160\n",
      "Geração: 71\tLimite sem melhora: 4\t Fitness: 1321\t Len: 160\n",
      "Geração: 72\tLimite sem melhora: 5\t Fitness: 1321\t Len: 160\n",
      "Geração: 73\tLimite sem melhora: 0\t Fitness: 1316\t Len: 160\n",
      "Geração: 74\tLimite sem melhora: 1\t Fitness: 1316\t Len: 160\n",
      "Geração: 75\tLimite sem melhora: 2\t Fitness: 1316\t Len: 160\n",
      "Geração: 76\tLimite sem melhora: 3\t Fitness: 1316\t Len: 160\n",
      "Geração: 77\tLimite sem melhora: 4\t Fitness: 1316\t Len: 160\n",
      "Geração: 78\tLimite sem melhora: 5\t Fitness: 1316\t Len: 160\n",
      "Geração: 79\tLimite sem melhora: 6\t Fitness: 1316\t Len: 160\n",
      "Geração: 80\tLimite sem melhora: 7\t Fitness: 1316\t Len: 160\n",
      "Geração: 81\tLimite sem melhora: 8\t Fitness: 1316\t Len: 160\n",
      "Geração: 82\tLimite sem melhora: 9\t Fitness: 1316\t Len: 160\n",
      "Geração: 83\tLimite sem melhora: 10\t Fitness: 1316\t Len: 160\n",
      "Geração: 84\tLimite sem melhora: 0\t Fitness: 1311\t Len: 160\n",
      "Geração: 85\tLimite sem melhora: 1\t Fitness: 1311\t Len: 160\n",
      "Geração: 86\tLimite sem melhora: 2\t Fitness: 1311\t Len: 160\n",
      "Geração: 87\tLimite sem melhora: 3\t Fitness: 1311\t Len: 160\n",
      "Geração: 88\tLimite sem melhora: 4\t Fitness: 1311\t Len: 160\n",
      "Geração: 89\tLimite sem melhora: 5\t Fitness: 1311\t Len: 160\n",
      "Geração: 90\tLimite sem melhora: 6\t Fitness: 1311\t Len: 160\n"
     ]
    },
    {
     "ename": "IndexError",
     "evalue": "list index out of range",
     "output_type": "error",
     "traceback": [
      "\u001b[1;31m---------------------------------------------------------------------------\u001b[0m",
      "\u001b[1;31mIndexError\u001b[0m                                Traceback (most recent call last)",
      "\u001b[1;32m<ipython-input-73-9b89236a1d1e>\u001b[0m in \u001b[0;36m<module>\u001b[1;34m\u001b[0m\n\u001b[1;32m----> 1\u001b[1;33m \u001b[0malgoritmo_genetico\u001b[0m\u001b[1;33m(\u001b[0m\u001b[1;33m)\u001b[0m\u001b[1;33m\u001b[0m\u001b[1;33m\u001b[0m\u001b[0m\n\u001b[0m",
      "\u001b[1;32m<ipython-input-72-d0f411f8b021>\u001b[0m in \u001b[0;36malgoritmo_genetico\u001b[1;34m(limite_de_geracoes, limite_sem_melhora, tamanho_populacao, taxa_cruzamento, taxa_mutacao, tsp)\u001b[0m\n\u001b[0;32m     44\u001b[0m             \u001b[0mfilho\u001b[0m \u001b[1;33m=\u001b[0m \u001b[1;33m{\u001b[0m\u001b[1;33m}\u001b[0m\u001b[1;33m\u001b[0m\u001b[1;33m\u001b[0m\u001b[0m\n\u001b[0;32m     45\u001b[0m             \u001b[0mfilho\u001b[0m\u001b[1;33m[\u001b[0m\u001b[1;34m'indice'\u001b[0m\u001b[1;33m]\u001b[0m \u001b[1;33m=\u001b[0m \u001b[0mstr\u001b[0m\u001b[1;33m(\u001b[0m\u001b[0mindice_total\u001b[0m\u001b[1;33m)\u001b[0m\u001b[1;33m\u001b[0m\u001b[1;33m\u001b[0m\u001b[0m\n\u001b[1;32m---> 46\u001b[1;33m             \u001b[0mfilho\u001b[0m\u001b[1;33m[\u001b[0m\u001b[1;34m'dna'\u001b[0m\u001b[1;33m]\u001b[0m \u001b[1;33m=\u001b[0m \u001b[0mmutar\u001b[0m\u001b[1;33m(\u001b[0m\u001b[0mcrossover\u001b[0m\u001b[1;33m(\u001b[0m\u001b[0mpai\u001b[0m\u001b[1;33m,\u001b[0m \u001b[0mmae\u001b[0m\u001b[1;33m)\u001b[0m\u001b[1;33m,\u001b[0m \u001b[0mtaxa_mutacao\u001b[0m\u001b[1;33m)\u001b[0m\u001b[1;33m\u001b[0m\u001b[1;33m\u001b[0m\u001b[0m\n\u001b[0m\u001b[0;32m     47\u001b[0m             \u001b[0mindice_total\u001b[0m \u001b[1;33m+=\u001b[0m \u001b[1;36m1\u001b[0m\u001b[1;33m\u001b[0m\u001b[1;33m\u001b[0m\u001b[0m\n\u001b[0;32m     48\u001b[0m \u001b[1;33m\u001b[0m\u001b[0m\n",
      "\u001b[1;32m<ipython-input-69-46e009b69d66>\u001b[0m in \u001b[0;36mcrossover\u001b[1;34m(pai, mae)\u001b[0m\n\u001b[0;32m     15\u001b[0m     \u001b[1;31m# Atribuí genes restantes a partir da mãe\u001b[0m\u001b[1;33m\u001b[0m\u001b[1;33m\u001b[0m\u001b[1;33m\u001b[0m\u001b[0m\n\u001b[0;32m     16\u001b[0m     \u001b[1;32mwhile\u001b[0m \u001b[0mgenes_adicionados\u001b[0m \u001b[1;33m<\u001b[0m \u001b[0mgenes_faltando\u001b[0m\u001b[1;33m:\u001b[0m\u001b[1;33m\u001b[0m\u001b[1;33m\u001b[0m\u001b[0m\n\u001b[1;32m---> 17\u001b[1;33m         \u001b[0mgene\u001b[0m \u001b[1;33m=\u001b[0m \u001b[0mmae\u001b[0m\u001b[1;33m[\u001b[0m\u001b[1;34m'dna'\u001b[0m\u001b[1;33m]\u001b[0m\u001b[1;33m[\u001b[0m\u001b[0mi\u001b[0m\u001b[1;33m]\u001b[0m\u001b[1;33m\u001b[0m\u001b[1;33m\u001b[0m\u001b[0m\n\u001b[0m\u001b[0;32m     18\u001b[0m \u001b[1;33m\u001b[0m\u001b[0m\n\u001b[0;32m     19\u001b[0m         \u001b[1;32mif\u001b[0m \u001b[0mgene\u001b[0m \u001b[1;32mnot\u001b[0m \u001b[1;32min\u001b[0m \u001b[0mdna_filho\u001b[0m\u001b[1;33m:\u001b[0m\u001b[1;33m\u001b[0m\u001b[1;33m\u001b[0m\u001b[0m\n",
      "\u001b[1;31mIndexError\u001b[0m: list index out of range"
     ]
    }
   ],
   "source": [
    "algoritmo_genetico()"
   ]
  },
  {
   "cell_type": "code",
   "execution_count": null,
   "metadata": {},
   "outputs": [],
   "source": []
  },
  {
   "cell_type": "code",
   "execution_count": null,
   "metadata": {},
   "outputs": [],
   "source": []
  }
 ],
 "metadata": {
  "kernelspec": {
   "display_name": "Python 3",
   "language": "python",
   "name": "python3"
  },
  "language_info": {
   "codemirror_mode": {
    "name": "ipython",
    "version": 3
   },
   "file_extension": ".py",
   "mimetype": "text/x-python",
   "name": "python",
   "nbconvert_exporter": "python",
   "pygments_lexer": "ipython3",
   "version": "3.7.1"
  }
 },
 "nbformat": 4,
 "nbformat_minor": 2
}
