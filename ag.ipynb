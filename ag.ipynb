{
 "cells": [
  {
   "cell_type": "code",
   "execution_count": 43,
   "metadata": {},
   "outputs": [],
   "source": [
    "import random\n",
    "import operator\n",
    "import numpy as np\n",
    "import pandas as pd\n",
    "import matplotlib.pyplot as plt\n",
    "%run TSP.ipynb\n",
    "%matplotlib inline"
   ]
  },
  {
   "cell_type": "code",
   "execution_count": 44,
   "metadata": {},
   "outputs": [],
   "source": [
    "class Ponto:\n",
    "    def __init__(self, x, y):\n",
    "        self.x = x\n",
    "        self.y = y\n",
    "        \n",
    "    def __repr__(self):\n",
    "        return \"({},{})\".format(str(self.x), str(self.y))\n",
    "    \n",
    "    def distancia(self, ponto):\n",
    "        xd = abs(self.x - ponto.x)\n",
    "        yd = abs(self.y - ponto.y)\n",
    "        return np.sqrt((xd ** 2) + (yd ** 2)).astype(int)"
   ]
  },
  {
   "cell_type": "code",
   "execution_count": 45,
   "metadata": {},
   "outputs": [],
   "source": [
    "class Fitness:\n",
    "    def __init__(self, rota):\n",
    "        self.rota = rota\n",
    "        self.fitness = 0\n",
    "        self.distancia = 0\n",
    "    \n",
    "    def percorrerRota(self):\n",
    "        if self.distancia == 0:\n",
    "            distanciaPercorrida = 0\n",
    "            for i in range(0, len(self.rota)):\n",
    "                pontoA = self.rota[i]\n",
    "                pontoB = None\n",
    "                if i + 1 < len(self.rota):\n",
    "                    pontoB = self.rota[i + 1]\n",
    "                else:\n",
    "                    pontoB = self.rota[0]\n",
    "                distanciaPercorrida += pontoA.distancia(pontoB)\n",
    "            self.distancia = distanciaPercorrida\n",
    "        return self.distancia\n",
    "    \n",
    "    def getFitnessRota(self):\n",
    "        if self.fitness == 0:\n",
    "            self.fitness = 1 / float(self.percorrerRota())\n",
    "        return self.fitness"
   ]
  },
  {
   "cell_type": "code",
   "execution_count": 46,
   "metadata": {},
   "outputs": [],
   "source": [
    "# Retorna novo individuo\n",
    "def criarRota(pontos):\n",
    "    rota = random.sample(pontos, len(pontos))\n",
    "    return rota"
   ]
  },
  {
   "cell_type": "code",
   "execution_count": 47,
   "metadata": {},
   "outputs": [],
   "source": [
    "# Retorna lista de individuos\n",
    "def inicializaPopulacao(tamanhoPopulacao, pontos):\n",
    "    populacao = []\n",
    "    for i in range(0, tamanhoPopulacao):\n",
    "        populacao.append(criarRota(pontos))\n",
    "    return populacao"
   ]
  },
  {
   "cell_type": "code",
   "execution_count": 48,
   "metadata": {},
   "outputs": [],
   "source": [
    "# Retorna Dicionário ordenado por fitness\n",
    "def rankInidividuos(populacao):\n",
    "    fitness = {}\n",
    "    for i in range(0,len(populacao)):\n",
    "        fitness[i] = Fitness(populacao[i]).getFitnessRota()\n",
    "    return sorted(fitness.items(), key = operator.itemgetter(1), reverse = True)"
   ]
  },
  {
   "cell_type": "code",
   "execution_count": 49,
   "metadata": {},
   "outputs": [],
   "source": [
    "# Seleção Proporcional(Roleta)\n",
    "# Retorna lista de indices dos individuos selecionados\n",
    "def selecao(rankPopulacao, numEleitos):\n",
    "    selecionados = []\n",
    "    \n",
    "    # Cria DataFrame\n",
    "    df = pd.DataFrame(np.array(rankPopulacao), columns=[\"Indice\",\"Fitness\"])\n",
    "    \n",
    "    # Realiza Soma Acumulativa\n",
    "    df['Soma_Acumulativa'] = df.Fitness.cumsum()\n",
    "    \n",
    "    # Calcula Percentual de aptidão\n",
    "    df['Percentual'] = 100 * df.Soma_Acumulativa / df.Fitness.sum()\n",
    "    \n",
    "    # Seleciona eleitos\n",
    "    for i in range(0, numEleitos):\n",
    "        selecionados.append(rankPopulacao[i][0])\n",
    "        \n",
    "    # Seleção Proporcional\n",
    "    for i in range(0, len(rankPopulacao) - numEleitos):\n",
    "        \n",
    "        # Roda roleta\n",
    "        pontera = 100 * random.random()\n",
    "        \n",
    "        # Seleciona primeiro individuo apontado\n",
    "        for i in range(0, len(rankPopulacao)):\n",
    "            if pontera <= df.iat[i,3]:\n",
    "                selecionados.append(rankPopulacao[i][0])\n",
    "                break\n",
    "                \n",
    "    return selecionados"
   ]
  },
  {
   "cell_type": "code",
   "execution_count": 50,
   "metadata": {},
   "outputs": [],
   "source": [
    "# Retorna lista de individuos\n",
    "def getProcriadores(populacao, selecionados):\n",
    "    procriadores = []\n",
    "    for i in range(0, len(selecionados)):\n",
    "        indice = selecionados[i]\n",
    "        procriadores.append(populacao[indice])\n",
    "    return procriadores"
   ]
  },
  {
   "cell_type": "code",
   "execution_count": 51,
   "metadata": {},
   "outputs": [],
   "source": [
    "# +/- order crossover operator (OX1 ou OX)\n",
    "def procriar(pai, mae):\n",
    "    filho_DNA = []\n",
    "    p1_DNA = []\n",
    "    p2_DNA = []\n",
    "    \n",
    "    # Determina genes do pai que serão passados para o filho\n",
    "    geneA = int(random.random() * len(pai))\n",
    "    geneB = int(random.random() * len(pai))\n",
    "    \n",
    "    inicioGene = min(geneA, geneB)\n",
    "    fimGene = max(geneA, geneB)\n",
    "\n",
    "    # Adicio pedaço do DNA do Pai para o filho\n",
    "    for i in range(inicioGene, fimGene):\n",
    "        p1_DNA.append(pai[i])\n",
    "    \n",
    "    # Completa restantando do DNA com o da Mãe\n",
    "    p2_DNA = [gene for gene in mae if gene not in p1_DNA]\n",
    "\n",
    "    filho_DNA = p1_DNA + p2_DNA\n",
    "    return filho_DNA"
   ]
  },
  {
   "cell_type": "code",
   "execution_count": 52,
   "metadata": {},
   "outputs": [],
   "source": [
    "def procriaPopulacao(procriadores, numEleitos):\n",
    "    filhos = []\n",
    "    restantePopulacao = len(procriadores) - numEleitos\n",
    "    pais = random.sample(procriadores, len(procriadores))\n",
    "\n",
    "    # Passa eleitos para próxima geração\n",
    "    for i in range(0, numEleitos):\n",
    "        filhos.append(procriadores[i])\n",
    "    \n",
    "    # Preenche restante da população com filhos \n",
    "    for i in range(0, restantePopulacao):\n",
    "        filho = procriar(pais[i], pais[len(procriadores)-i-1])\n",
    "        filhos.append(filho)\n",
    "    return filhos"
   ]
  },
  {
   "cell_type": "code",
   "execution_count": 53,
   "metadata": {},
   "outputs": [],
   "source": [
    "# Mutação por troca\n",
    "def mutar(dna, taxaMutacao):\n",
    "    for i in range(len(dna)):\n",
    "        if(random.random() < taxaMutacao):\n",
    "            j = int(random.random() * len(dna))\n",
    "            \n",
    "            geneA = dna[i]\n",
    "            geneB = dna[j]\n",
    "            \n",
    "            dna[i] = geneB\n",
    "            dna[j] = geneA\n",
    "    return dna"
   ]
  },
  {
   "cell_type": "code",
   "execution_count": 54,
   "metadata": {},
   "outputs": [],
   "source": [
    "# Retorna população mutada\n",
    "def mutarPopulacao(populacao, taxaMutacao):\n",
    "    populacaoMutada = []\n",
    "    \n",
    "    for ind in range(0, len(populacao)):\n",
    "        individuoMutado = mutar(populacao[ind], taxaMutacao)\n",
    "        populacaoMutada.append(individuoMutado)\n",
    "    return populacaoMutada"
   ]
  },
  {
   "cell_type": "code",
   "execution_count": 55,
   "metadata": {},
   "outputs": [],
   "source": [
    "def proximaGeracao(populacao, numEleitos, taxaMutacao):\n",
    "    # Ordena população conforme fitness\n",
    "    rankPopulacao = rankInidividuos(populacao)\n",
    "    \n",
    "    # Realiza seleção dos melhor individuos\n",
    "    selecionados = selecao(rankPopulacao, numEleitos)\n",
    "    \n",
    "    # Recupera individuos conforme indices selecionados\n",
    "    procriadores = getProcriadores(populacao, selecionados)\n",
    "    \n",
    "    # Cria filhos a partir dos procriadores\n",
    "    filhos = procriaPopulacao(procriadores, numEleitos)\n",
    "    \n",
    "    # Realiza mutação nos filhos\n",
    "    proximaGeracao = mutarPopulacao(filhos, taxaMutacao)\n",
    "    return proximaGeracao"
   ]
  },
  {
   "cell_type": "code",
   "execution_count": 56,
   "metadata": {},
   "outputs": [],
   "source": [
    "def geneticAlgorithm(pontos, tamanhoPopulacao, numEleitos, taxaMutacao, geracoes):\n",
    "    populacao = inicializaPopulacao(tamanhoPopulacao, pontos)\n",
    "    print(\"Distancia Inicial: \" + str(1 / rankInidividuos(populacao)[0][1]))\n",
    "    \n",
    "    for i in range(0, geracoes):\n",
    "        populacao = proximaGeracao(populacao, numEleitos, taxaMutacao)\n",
    "    \n",
    "    print(\"Distancia Final: \" + str(1 / rankInidividuos(populacao)[0][1]))\n",
    "    indiceMelhorRota = rankInidividuos(populacao)[0][0]\n",
    "    melhorRota = populacao[indiceMelhorRota]\n",
    "    return melhorRota"
   ]
  },
  {
   "cell_type": "code",
   "execution_count": 57,
   "metadata": {},
   "outputs": [],
   "source": [
    "def geneticAlgorithmPlot(pontos, tamanhoPopulacao, numEleitos, taxaMutacao, geracoes):\n",
    "    populacao = inicializaPopulacao(tamanhoPopulacao, pontos)\n",
    "    progresso = []\n",
    "    progresso.append(1 / rankInidividuos(populacao)[0][1])\n",
    "    \n",
    "    print(\"Distancia Inicial: \" + str(1 / rankInidividuos(populacao)[0][1]))\n",
    "    \n",
    "    for i in range(0, geracoes):\n",
    "        populacao = proximaGeracao(populacao, numEleitos, taxaMutacao)\n",
    "        progresso.append(1 / rankInidividuos(populacao)[0][1])\n",
    "    \n",
    "    print(\"Distancia Final: \" + str(1 / rankInidividuos(populacao)[0][1]))\n",
    "    \n",
    "    plt.plot(progresso)\n",
    "    plt.ylabel('Distancia')\n",
    "    plt.xlabel('Geração')\n",
    "    plt.show()"
   ]
  },
  {
   "cell_type": "code",
   "execution_count": 58,
   "metadata": {},
   "outputs": [],
   "source": [
    "problem = TSP('eil51.tsp')\n",
    "\n",
    "cityList = []\n",
    "\n",
    "lista_ponto = list(problem.data.values())\n",
    "\n",
    "for ponto in lista_ponto:\n",
    "    cityList.append(Ponto(x=int(ponto[0]), y=int(ponto[1])))"
   ]
  },
  {
   "cell_type": "code",
   "execution_count": 59,
   "metadata": {},
   "outputs": [
    {
     "name": "stdout",
     "output_type": "stream",
     "text": [
      "Distancia Inicial: 1462.0\n",
      "Distancia Final: 482.99999999999994\n"
     ]
    },
    {
     "data": {
      "image/png": "[encoded data removed]",
      "text/plain": [
       "<Figure size 432x288 with 1 Axes>"
      ]
     },
     "metadata": {
      "needs_background": "light"
     },
     "output_type": "display_data"
    }
   ],
   "source": [
    "geneticAlgorithmPlot(pontos=cityList, tamanhoPopulacao=100, numEleitos=20, taxaMutacao=0.001, geracoes=1000)"
   ]
  },
  {
   "cell_type": "code",
   "execution_count": 60,
   "metadata": {},
   "outputs": [
    {
     "name": "stdout",
     "output_type": "stream",
     "text": [
      "Distancia Inicial: 1400.0\n",
      "Distancia Final: 496.99999999999994\n"
     ]
    },
    {
     "data": {
      "image/png": "[encoded data removed]",
      "text/plain": [
       "<Figure size 432x288 with 1 Axes>"
      ]
     },
     "metadata": {
      "needs_background": "light"
     },
     "output_type": "display_data"
    }
   ],
   "source": [
    "geneticAlgorithmPlot(pontos=cityList, tamanhoPopulacao=100, numEleitos=20, taxaMutacao=0.0025, geracoes=1000)"
   ]
  },
  {
   "cell_type": "code",
   "execution_count": 61,
   "metadata": {},
   "outputs": [
    {
     "name": "stdout",
     "output_type": "stream",
     "text": [
      "Distancia Inicial: 1410.0\n",
      "Distancia Final: 523.0\n"
     ]
    },
    {
     "data": {
      "image/png": "[encoded data removed]",
      "text/plain": [
       "<Figure size 432x288 with 1 Axes>"
      ]
     },
     "metadata": {
      "needs_background": "light"
     },
     "output_type": "display_data"
    }
   ],
   "source": [
    "geneticAlgorithmPlot(pontos=cityList, tamanhoPopulacao=100, numEleitos=20, taxaMutacao=0.005, geracoes=1000)"
   ]
  },
  {
   "cell_type": "code",
   "execution_count": null,
   "metadata": {},
   "outputs": [],
   "source": [
    "geneticAlgorithmPlot(pontos=cityList, tamanhoPopulacao=100, numEleitos=20, taxaMutacao=0.01, geracoes=1000)"
   ]
  },
  {
   "cell_type": "code",
   "execution_count": null,
   "metadata": {
    "scrolled": true
   },
   "outputs": [],
   "source": [
    "geneticAlgorithmPlot(pontos=cityList, tamanhoPopulacao=100, numEleitos=20, taxaMutacao=0.02, geracoes=1000)"
   ]
  },
  {
   "cell_type": "code",
   "execution_count": null,
   "metadata": {},
   "outputs": [],
   "source": [
    "geneticAlgorithmPlot(pontos=cityList, tamanhoPopulacao=100, numEleitos=20, taxaMutacao=0.03, geracoes=1000)"
   ]
  },
  {
   "cell_type": "code",
   "execution_count": null,
   "metadata": {},
   "outputs": [],
   "source": [
    "geneticAlgorithmPlot(pontos=cityList, tamanhoPopulacao=100, numEleitos=20, taxaMutacao=0.04, geracoes=1000)"
   ]
  },
  {
   "cell_type": "code",
   "execution_count": null,
   "metadata": {
    "scrolled": true
   },
   "outputs": [],
   "source": [
    "#geneticAlgorithm(pontos=cityList, tamanhoPopulacao=100, numEleitos=20, taxaMutacao=0.01, geracoes=500)"
   ]
  },
  {
   "cell_type": "code",
   "execution_count": null,
   "metadata": {},
   "outputs": [],
   "source": [
    "#cityList = []\n",
    "\n",
    "#for i in range(0,25):\n",
    "#    cityList.append(Ponto(x=int(random.random() * 200), y=int(random.random() * 200)))"
   ]
  }
 ],
 "metadata": {
  "kernelspec": {
   "display_name": "Python 3",
   "language": "python",
   "name": "python3"
  },
  "language_info": {
   "codemirror_mode": {
    "name": "ipython",
    "version": 3
   },
   "file_extension": ".py",
   "mimetype": "text/x-python",
   "name": "python",
   "nbconvert_exporter": "python",
   "pygments_lexer": "ipython3",
   "version": "3.7.3"
  }
 },
 "nbformat": 4,
 "nbformat_minor": 2
}
