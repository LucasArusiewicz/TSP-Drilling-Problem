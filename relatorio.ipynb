{
 "cells": [
  {
   "cell_type": "code",
   "execution_count": null,
   "metadata": {},
   "outputs": [],
   "source": [
    "%run ag.ipynb"
   ]
  },
  {
   "cell_type": "code",
   "execution_count": null,
   "metadata": {},
   "outputs": [],
   "source": [
    "problema = TSP('eil51.tsp')\n",
    "listaCoord = list(problema.data.values())\n",
    "listaPontos = []\n",
    "for ponto in listaCoord:\n",
    "    listaPontos.append(Ponto(x=int(ponto[0]), y=int(ponto[1])))"
   ]
  },
  {
   "cell_type": "code",
   "execution_count": null,
   "metadata": {},
   "outputs": [],
   "source": [
    "valoresMutacao = [0.6, 0.2, 0.01, 0.001]\n",
    "valoresCruzamento = [0.8, 0.5, 0.2, 0.1]\n",
    "\n",
    "resultadosMutacao = {}\n",
    "\n",
    "for x in range(1,11):\n",
    "    for mutacao in valoresMutacao:\n",
    "        for cruzamento in valoresCruzamento:\n",
    "            print(\"Round: {}\\tCruzamento: {}\\tMutação: {}\".format(x, cruzamento, mutacao))\n",
    "            chave = \"{},{},{}\".format(x, cruzamento, mutacao)\n",
    "            resultadosMutacao[chave] = geneticAlgorithm(pontos=listaPontos, tamanhoPopulacao=100, numEleitos=10, taxaCruzamento=cruzamento, taxaMutacao=mutacao, geracoes=500)"
   ]
  },
  {
   "cell_type": "code",
   "execution_count": null,
   "metadata": {},
   "outputs": [],
   "source": [
    "geneticAlgorithmPlot(pontos=cityList, tamanhoPopulacao=100, numEleitos=10, taxaCruzamento=0.8, taxaMutacao=0.00005, geracoes=2)"
   ]
  },
  {
   "cell_type": "code",
   "execution_count": null,
   "metadata": {},
   "outputs": [],
   "source": [
    "resultado = geneticAlgorithm(pontos=cityList, tamanhoPopulacao=100, numEleitos=10, taxaCruzamento=0.8, taxaMutacao=0.00005, geracoes=500)"
   ]
  },
  {
   "cell_type": "code",
   "execution_count": null,
   "metadata": {},
   "outputs": [],
   "source": [
    "x = []\n",
    "y = []\n",
    "\n",
    "for p in cityList:\n",
    "    x.append(p.x)\n",
    "    y.append(p.y)\n",
    "\n",
    "\n",
    "plt.plot(x, y, 'ro')\n",
    "plt.show()"
   ]
  },
  {
   "cell_type": "code",
   "execution_count": null,
   "metadata": {},
   "outputs": [],
   "source": [
    "aux = []\n",
    "for g in resultado[\"progresso\"]:\n",
    "    aux.append(g[\"fitness\"])\n",
    "plt.plot(aux)\n",
    "plt.ylabel('Distancia')\n",
    "plt.xlabel('Geração')\n",
    "plt.show()\n",
    "plt.close()"
   ]
  },
  {
   "cell_type": "code",
   "execution_count": null,
   "metadata": {},
   "outputs": [],
   "source": [
    "for g in resultado[\"progresso\"]:\n",
    "    print(\"Geração: {}\".format(g[\"geracao\"]))\n",
    "    print(\"Best Fitness: {}\".format(g[\"fitness\"]))\n",
    "    \n",
    "    s = g[\"solucao\"]\n",
    "    s.append(s[0])\n",
    "    \n",
    "    x = []\n",
    "    y = []\n",
    "\n",
    "    for p in s:\n",
    "        x.append(p.x)\n",
    "        y.append(p.y)\n",
    "\n",
    "        \n",
    "    plt.title(\"Geração: {}   Fitness: {}\".format(g[\"geracao\"], g[\"fitness\"]))\n",
    "    plt.plot(x, y)\n",
    "    plt.plot(x, y, 'ro')\n",
    "    plt.savefig('output/{}.png'.format(g[\"geracao\"]))\n",
    "    plt.close()\n",
    "    "
   ]
  },
  {
   "cell_type": "code",
   "execution_count": null,
   "metadata": {},
   "outputs": [],
   "source": []
  },
  {
   "cell_type": "code",
   "execution_count": null,
   "metadata": {},
   "outputs": [],
   "source": []
  },
  {
   "cell_type": "code",
   "execution_count": null,
   "metadata": {},
   "outputs": [],
   "source": []
  },
  {
   "cell_type": "code",
   "execution_count": null,
   "metadata": {},
   "outputs": [],
   "source": []
  }
 ],
 "metadata": {
  "kernelspec": {
   "display_name": "Python 3",
   "language": "python",
   "name": "python3"
  },
  "language_info": {
   "codemirror_mode": {
    "name": "ipython",
    "version": 3
   },
   "file_extension": ".py",
   "mimetype": "text/x-python",
   "name": "python",
   "nbconvert_exporter": "python",
   "pygments_lexer": "ipython3",
   "version": "3.7.1"
  }
 },
 "nbformat": 4,
 "nbformat_minor": 2
}
