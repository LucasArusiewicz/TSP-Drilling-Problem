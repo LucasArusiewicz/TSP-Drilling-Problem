{
 "cells": [
  {
   "cell_type": "code",
   "execution_count": 3,
   "metadata": {},
   "outputs": [],
   "source": [
    "class TSP():\n",
    "    def load_data_tsp(self, arquivo, fim_cabecalho):\n",
    "        data = {}\n",
    "        cabecalho = {}\n",
    "        num_linha = 1\n",
    "\n",
    "        arquivo = open(arquivo, \"r\")\n",
    "        for linha in arquivo:\n",
    "            if linha.startswith('EOF'):\n",
    "                break\n",
    "            \n",
    "            if num_linha <= fim_cabecalho:\n",
    "                dados = str(linha).strip('\\n').split(':')\n",
    "                dados_limpos = [item.strip() for item in dados]\n",
    "                \n",
    "                try:\n",
    "                    cabecalho[dados_limpos[0]] = dados_limpos[1]\n",
    "                except:\n",
    "                    pass\n",
    "            \n",
    "            else:\n",
    "                dados = str(linha).strip('\\n').split(' ')\n",
    "            \n",
    "                filtro = set([''])\n",
    "                dados_limpos = [dado for dado in dados if dado not in filtro]\n",
    "                \n",
    "                data[dados_limpos[0]] = (int(dados_limpos[1]), int(dados_limpos[2]))\n",
    "                \n",
    "            num_linha += 1\n",
    "\n",
    "        arquivo.close()\n",
    "        \n",
    "        self.data = data\n",
    "        self.nome = cabecalho['NAME']\n",
    "        self.problema = cabecalho['COMMENT']\n",
    "        self.tipo = cabecalho['TYPE']\n",
    "        self.tamanho = int(cabecalho['DIMENSION'])\n",
    "        self.calculo = cabecalho['EDGE_WEIGHT_TYPE']\n",
    "    \n",
    "    def __init__(self, problema):\n",
    "        self.load_data_tsp('input/{}'.format(problema), 6)\n",
    "    \n",
    "    def __repr__(self):\n",
    "        return 'NOME : {}\\nPROBLEMA : {}\\nTIPO : {}\\nTAMNHO: {}\\nCALCULO : {}'.format(self.nome, self.problema, self.tipo, self.tamanho, self.calculo)"
   ]
  },
  {
   "cell_type": "code",
   "execution_count": null,
   "metadata": {},
   "outputs": [],
   "source": []
  }
 ],
 "metadata": {
  "kernelspec": {
   "display_name": "Python 3",
   "language": "python",
   "name": "python3"
  },
  "language_info": {
   "codemirror_mode": {
    "name": "ipython",
    "version": 3
   },
   "file_extension": ".py",
   "mimetype": "text/x-python",
   "name": "python",
   "nbconvert_exporter": "python",
   "pygments_lexer": "ipython3",
   "version": "3.6.5"
  }
 },
 "nbformat": 4,
 "nbformat_minor": 2
}
